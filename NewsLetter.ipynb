{
  "nbformat": 4,
  "nbformat_minor": 0,
  "metadata": {
    "colab": {
      "name": "Untitled3.ipynb",
      "provenance": [],
      "collapsed_sections": [],
      "authorship_tag": "ABX9TyP55HK94XpyZMmLRDKVOJDx",
      "include_colab_link": true
    },
    "kernelspec": {
      "name": "python3",
      "display_name": "Python 3"
    },
    "language_info": {
      "name": "python"
    }
  },
  "cells": [
    {
      "cell_type": "markdown",
      "metadata": {
        "id": "view-in-github",
        "colab_type": "text"
      },
      "source": [
        "<a href=\"https://colab.research.google.com/github/peteryu24/petercoding-python/blob/main/NewsLetter.ipynb\" target=\"_parent\"><img src=\"https://colab.research.google.com/assets/colab-badge.svg\" alt=\"Open In Colab\"/></a>"
      ]
    },
    {
      "cell_type": "code",
      "execution_count": 6,
      "metadata": {
        "colab": {
          "base_uri": "https://localhost:8080/"
        },
        "id": "mczl-DbqG8jv",
        "outputId": "4188ac3f-87df-43c0-9529-dd7704b5c97c"
      },
      "outputs": [
        {
          "output_type": "stream",
          "name": "stdout",
          "text": [
            "경기가 열린 곳은? 런던 스타디움\n",
            "경기가 열린 시간은? 8월 6일 오후 7시\n",
            "상대 팀은? 맨체스터 유나이티드\n",
            "손응민은 몇 골을 넣었나요? 2\n",
            "도움은 몇 개인가요? 1\n",
            "손흥민 팀이 넣은 골 수는? 4\n",
            "상대 팀이 넣은 골 수는? 2\n",
            "[프리미어 리그 속보(2022-03-16 05:26:55.253672)]\n",
            "손흥민 선수는 런던 스타디움에서 8월 6일 오후 7시에 열린 경기에 출전하였습니다. 상대 팀은 맨체스터 유나이티드입니다. 손흥민 선수의 팀이 4골을 넣어 2골을 넣은상대 팀을 꺾었습니다.손흥민 선수는 2골에 도움 1개로 승리를 크게 이끌었습니다. \n"
          ]
        }
      ],
      "source": [
        "from datetime import datetime\n",
        "import random\n",
        "\n",
        "#경기 결과 입력 받는 곳\n",
        "\n",
        "place = input(\"경기가 열린 곳은? \")\n",
        "time = input(\"경기가 열린 시간은? \")\n",
        "opponent = input(\"상대 팀은? \")\n",
        "goals = input(\"손응민은 몇 골을 넣었나요? \")\n",
        "aids = input(\"도움은 몇 개인가요? \")\n",
        "score_me = input(\"손흥민 팀이 넣은 골 수는? \")\n",
        "score_you = input(\"상대 팀이 넣은 골 수는? \")\n",
        "\n",
        "\n",
        "#기사 작성하는 곳\n",
        "\n",
        "news = \"[프리미어 리그 속보(\"+str(datetime.now())+\")]\\n\"\n",
        "news = news+\"손흥민 선수는 \"+place+\"에서 \"+time+\"에 열린 경기에 출전하였습니다. \"\n",
        "news = news+\"상대 팀은 \"+opponent+\"입니다. \"\n",
        "\n",
        "if score_me > score_you:\n",
        "  wording = [\"상대 팀을 이겼습니다.\", \"상대를 대상으로 통쾌한 승리를 거머쥐었습니다.\", \"상대 팀을 꺾었습니다.\"]\n",
        "  news = news+\"손흥민 선수의 팀이 \"+score_me+\"골을 넣어 \"+score_you+\"골을 넣은\"+ random.choice(wording)\n",
        "elif score_me < score_you:\n",
        "   news = news+\"손흥민 선수의 팀이 \"+score_me+\"골을 넣어 \"+score_you+\"골을 넣은 상대 팀에게 졌습니다. \"\n",
        "else:\n",
        "    news = news+\"두 팀은\"+score_me+\"대\"+score_you+\"로 비겼습니다. \"\n",
        "\n",
        "if int(goals)>0 and int(aids)>0:\n",
        "  news = news+\"손흥민 선수는 \"+goals+\"골에 도움 \"+aids+\"개로 승리를 크게 이끌었습니다. \"\n",
        "elif int(golas)>0 and int(aids)==0:\n",
        "  news = news+\"손흥민 선수는 \"+goals+\"골로 승리를 크게 이끌었습니다. \"\n",
        "elif int(golas)==0 and int(aids)>0:\n",
        "  news = news+\"손흥민 선수는 골은 없지만 도움 \"+aids+\"개로 승리하는데 공헌하였습니다. \"\n",
        "else:\n",
        "  news = news+\"아쉽게도 이번 경기에서 손흥민의 발끝은 침묵을 지켰습니다. \"\n",
        "\n",
        "print(news) "
      ]
    }
  ]
}