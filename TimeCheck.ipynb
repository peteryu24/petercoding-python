{
  "nbformat": 4,
  "nbformat_minor": 0,
  "metadata": {
    "colab": {
      "name": "Untitled2.ipynb",
      "provenance": [],
      "collapsed_sections": [],
      "authorship_tag": "ABX9TyN5TBJSlcxVEPQuxW9Xl+dY",
      "include_colab_link": true
    },
    "kernelspec": {
      "name": "python3",
      "display_name": "Python 3"
    },
    "language_info": {
      "name": "python"
    }
  },
  "cells": [
    {
      "cell_type": "markdown",
      "metadata": {
        "id": "view-in-github",
        "colab_type": "text"
      },
      "source": [
        "<a href=\"https://colab.research.google.com/github/peteryu24/petercoding-python/blob/main/TimeCheck.ipynb\" target=\"_parent\"><img src=\"https://colab.research.google.com/assets/colab-badge.svg\" alt=\"Open In Colab\"/></a>"
      ]
    }, 
    {
      "cell_type": "code",
      "execution_count": 7,
      "metadata": {
        "colab": {
          "base_uri": "https://localhost:8080/"
        },
        "id": "GPn4RAaxGTVb",
        "outputId": "84b16b15-02f4-4e15-d263-a15b378b408d"
      },
      "outputs": [
        {
          "output_type": "stream",
          "name": "stdout",
          "text": [
            "1+2+...+100000000 = 5000000050000000\n",
            "It took 11.608114004135132 seconds\n"
          ]
        }
      ],
      "source": [
        "import time\n",
        "\n",
        "start=time.time()\n",
        "\n",
        "sum=0\n",
        "\n",
        "for i in range(1,100000001):\n",
        "  sum=sum+i\n",
        "\n",
        "end=time.time()\n",
        "\n",
        "print(\"1+2+...+100000000 =\", sum)\n",
        "print(\"It took\", end-start,\"seconds\")\n"
      ]
    }
  ]
}
