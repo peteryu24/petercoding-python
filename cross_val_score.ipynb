{
  "nbformat": 4,
  "nbformat_minor": 0,
  "metadata": {
    "colab": {
      "name": "week5.ipynb",
      "provenance": [],
      "collapsed_sections": [],
      "authorship_tag": "ABX9TyM6k95YPuNtJOLHugMfrX/y",
      "include_colab_link": true
    },
    "kernelspec": {
      "name": "python3",
      "display_name": "Python 3"
    },
    "language_info": {
      "name": "python"
    }
  },
  "cells": [
    {
      "cell_type": "markdown",
      "metadata": {
        "id": "view-in-github",
        "colab_type": "text"
      },
      "source": [
        "<a href=\"https://colab.research.google.com/github/peteryu24/petercoding-python/blob/main/cross_val_score.ipynb\" target=\"_parent\"><img src=\"https://colab.research.google.com/assets/colab-badge.svg\" alt=\"Open In Colab\"/></a>"
      ]
    },
    {
      "cell_type": "code",
      "execution_count": 29,
      "metadata": {
        "colab": {
          "base_uri": "https://localhost:8080/"
        },
        "id": "D9Zu_YQtUPkL",
        "outputId": "35cac79e-465d-4d55-ce0c-bc2d68b75d96"
      },
      "outputs": [
        {
          "output_type": "stream",
          "name": "stdout",
          "text": [
            "[0.975      0.95       0.98328691 0.99164345 0.96100279]\n",
            "accuracy(average)=97.219, standard deviation=0.015\n"
          ]
        }
      ],
      "source": [
        "from sklearn import datasets\n",
        "from sklearn import svm\n",
        "from sklearn.model_selection import cross_val_score\n",
        "import numpy as np\n",
        "\n",
        "digit=datasets.load_digits()\n",
        "s=svm.SVC(gamma=0.001)\n",
        "accuracies=cross_val_score(s,digit.data,digit.target,cv=5)\n",
        "\n",
        "print(accuracies)\n",
        "print(\"accuracy(average)=%0.3f, standard deviation=%0.3f\"%(accuracies.mean()*100,accuracies.std()))"
      ]
    }
  ]
}