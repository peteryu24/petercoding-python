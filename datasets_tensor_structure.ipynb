{
  "nbformat": 4,
  "nbformat_minor": 0,
  "metadata": {
    "colab": {
      "name": "Untitled5.ipynb",
      "provenance": [],
      "authorship_tag": "ABX9TyMXksr8mlTDnc8xpnUEGoDA",
      "include_colab_link": true
    },
    "kernelspec": {
      "name": "python3",
      "display_name": "Python 3"
    },
    "language_info": {
      "name": "python"
    }
  },
  "cells": [
    {
      "cell_type": "markdown",
      "metadata": {
        "id": "view-in-github",
        "colab_type": "text"
      },
      "source": [
        "<a href=\"https://colab.research.google.com/github/peteryu24/petercoding-python/blob/main/datasets_tensor_structure.ipynb\" target=\"_parent\"><img src=\"https://colab.research.google.com/assets/colab-badge.svg\" alt=\"Open In Colab\"/></a>"
      ]
    },
    {
      "cell_type": "code",
      "execution_count": 8,
      "metadata": {
        "colab": {
          "base_uri": "https://localhost:8080/"
        },
        "id": "Cz4DBVWBeWX3",
        "outputId": "3fcdc610-8340-456a-92b1-a35d0158af40"
      },
      "outputs": [
        {
          "output_type": "stream",
          "name": "stdout",
          "text": [
            "MNIST:  (60000, 28, 28) (60000,) (60000, 10)\n",
            "CIFAR-10:  (50000, 32, 32, 3) (50000, 1) (50000, 1, 10)\n",
            "Boston Housing:  (404, 13) (404,)\n",
            "Reuters:  (8982,) (8982,)\n"
          ]
        }
      ],
      "source": [
        "import tensorflow as tf\n",
        "import tensorflow.keras.datasets as ds\n",
        "\n",
        "#print after reading MNIST\n",
        "(x_train, y_train),(x_test, y_test)=ds.mnist.load_data()\n",
        "yy_train=tf.one_hot(y_train,10,dtype=tf.int8)\n",
        "print(\"MNIST: \",x_train.shape,y_train.shape,yy_train.shape)\n",
        "\n",
        "#print after reading CIFAR-10 \n",
        "(x_train, y_train),(x_test, y_test)=ds.cifar10.load_data()\n",
        "yy_train=tf.one_hot(y_train,10,dtype=tf.int8)\n",
        "print(\"CIFAR-10: \",x_train.shape,y_train.shape,yy_train.shape)\n",
        "\n",
        "#print after reading Boston Housing \n",
        "(x_train, y_train),(x_test, y_test)=ds.boston_housing.load_data()\n",
        "print(\"Boston Housing: \",x_train.shape,y_train.shape)\n",
        "\n",
        "#print after reading Reuters \n",
        "(x_train, y_train),(x_test, y_test)=ds.reuters.load_data()\n",
        "print(\"Reuters: \",x_train.shape,y_train.shape)\n"
      ]
    }
  ]
}