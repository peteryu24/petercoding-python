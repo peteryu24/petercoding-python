{
  "nbformat": 4,
  "nbformat_minor": 0,
  "metadata": {
    "colab": {
      "name": "week5.ipynb",
      "provenance": [],
      "collapsed_sections": [],
      "authorship_tag": "ABX9TyMQtb9glncFc4u4daNQRH2x",
      "include_colab_link": true
    },
    "kernelspec": {
      "name": "python3",
      "display_name": "Python 3"
    },
    "language_info": {
      "name": "python"
    }
  },
  "cells": [
    {
      "cell_type": "markdown",
      "metadata": {
        "id": "view-in-github",
        "colab_type": "text"
      },
      "source": [
        "<a href=\"https://colab.research.google.com/github/peteryu24/petercoding-python/blob/main/svc_digit_data_target.ipynb\" target=\"_parent\"><img src=\"https://colab.research.google.com/assets/colab-badge.svg\" alt=\"Open In Colab\"/></a>"
      ]
    },
    {
      "cell_type": "code",
      "execution_count": 21,
      "metadata": {
        "colab": {
          "base_uri": "https://localhost:8080/"
        },
        "id": "D9Zu_YQtUPkL",
        "outputId": "b921d7ae-449c-44e8-fe9f-a9b40d8071f2"
      },
      "outputs": [
        {
          "output_type": "stream",
          "name": "stdout",
          "text": [
            "predict: [0 1 2]\n",
            "actual: 0 1 2\n",
            "pixel accuracy = 100.0 %\n"
          ]
        }
      ],
      "source": [
        "from sklearn import datasets\n",
        "from sklearn import svm\n",
        "\n",
        "digit=datasets.load_digits()\n",
        "\n",
        "s=svm.SVC(gamma=0.1,C=10)\n",
        "s.fit(digit.data,digit.target)\n",
        "\n",
        "new_d=[digit.data[0],digit.data[1],digit.data[2]]\n",
        "res=s.predict(new_d)\n",
        "print(\"predict:\",res)\n",
        "print(\"actual:\",digit.target[0],digit.target[1],digit.target[2])\n",
        "\n",
        "res=s.predict(digit.data)\n",
        "correct=[i for i in range(len(res)) if res[i]==digit.target[i]]\n",
        "accuracy=len(correct)/len(res)\n",
        "print(\"pixel accuracy =\",accuracy*100,\"%\")"
      ]
    }
  ]
}