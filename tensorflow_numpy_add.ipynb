{
  "nbformat": 4,
  "nbformat_minor": 0,
  "metadata": {
    "colab": {
      "name": "Untitled5.ipynb",
      "provenance": [],
      "authorship_tag": "ABX9TyO6hrHGsvE6z4agoo5ip32D",
      "include_colab_link": true
    },
    "kernelspec": {
      "name": "python3",
      "display_name": "Python 3"
    },
    "language_info": {
      "name": "python"
    }
  },
  "cells": [
    {
      "cell_type": "markdown",
      "metadata": {
        "id": "view-in-github",
        "colab_type": "text"
      },
      "source": [
        "<a href=\"https://colab.research.google.com/github/peteryu24/petercoding-python/blob/main/tensorflow_numpy_add.ipynb\" target=\"_parent\"><img src=\"https://colab.research.google.com/assets/colab-badge.svg\" alt=\"Open In Colab\"/></a>"
      ]
    },
    {
      "cell_type": "code",
      "execution_count": 4,
      "metadata": {
        "colab": {
          "base_uri": "https://localhost:8080/"
        },
        "id": "Cz4DBVWBeWX3",
        "outputId": "bc17de9e-55d6-4575-dc33-8bb721817c1f"
      },
      "outputs": [
        {
          "output_type": "stream",
          "name": "stdout",
          "text": [
            "tensor with tensorflow:\n",
            " tf.Tensor(\n",
            "[[0.02321553 0.6181867  0.24458003]\n",
            " [0.54218495 0.13277161 0.46940696]], shape=(2, 3), dtype=float32) \n",
            "\n",
            "ndarray with numpy:\n",
            " [[0.26729038 0.9988881  0.2914532 ]\n",
            " [0.38377283 0.75156401 0.31134202]] \n",
            "\n",
            "addition result:\n",
            " tf.Tensor(\n",
            "[[0.29050592 1.6170747  0.5360333 ]\n",
            " [0.9259578  0.88433564 0.78074896]], shape=(2, 3), dtype=float32)\n"
          ]
        }
      ],
      "source": [
        "import tensorflow as tf\n",
        "import numpy as np\n",
        "\n",
        "t=tf.random.uniform([2,3],0,1)\n",
        "n=np.random.uniform(0,1,[2,3])\n",
        "\n",
        "print(\"tensor with tensorflow:\\n\",t,\"\\n\")\n",
        "print(\"ndarray with numpy:\\n\",n,\"\\n\")\n",
        "\n",
        "res=t+n\n",
        "print(\"addition result:\\n\",res)"
      ]
    }
  ]
}