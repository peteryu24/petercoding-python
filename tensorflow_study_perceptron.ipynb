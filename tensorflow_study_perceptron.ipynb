{
  "nbformat": 4,
  "nbformat_minor": 0,
  "metadata": {
    "colab": {
      "name": "Untitled5.ipynb",
      "provenance": [],
      "authorship_tag": "ABX9TyPn5dmLAYOWLvNv1KmYV2I1",
      "include_colab_link": true
    },
    "kernelspec": {
      "name": "python3",
      "display_name": "Python 3"
    },
    "language_info": {
      "name": "python"
    }
  },
  "cells": [
    {
      "cell_type": "markdown",
      "metadata": {
        "id": "view-in-github",
        "colab_type": "text"
      },
      "source": [
        "<a href=\"https://colab.research.google.com/github/peteryu24/petercoding-python/blob/main/tensorflow_study_perceptron.ipynb\" target=\"_parent\"><img src=\"https://colab.research.google.com/assets/colab-badge.svg\" alt=\"Open In Colab\"/></a>"
      ]
    },
    {
      "cell_type": "code",
      "source": [
        "import tensorflow as tf\n",
        "\n",
        "#construct OR data\n",
        "x=[[0.0,0.0],[0.0,1.0],[1.0,0.0],[1.0,1.0]]\n",
        "y=[[-1],[1],[1],[1]]\n",
        "\n",
        "#weight initialization\n",
        "w=tf.Variable(tf.random.uniform([2,1],-0.5,0.5))\n",
        "b=tf.Variable(tf.zeros([1]))\n",
        "\n",
        "#optimizer\n",
        "opt=tf.keras.optimizers.SGD(learning_rate=0.1)\n",
        "\n",
        "def forward():\n",
        "  s=tf.add(tf.matmul(x,w),b)\n",
        "  o=tf.tanh(s)\n",
        "  return o\n",
        "\n",
        "def loss():\n",
        "   o=forward()\n",
        "   return tf.reduce_mean((y-o)**2) \n",
        "\n",
        " #study 500 / print in every 100\n",
        "for i in range(500):\n",
        "   opt.minimize(loss, var_list=[w,b])\n",
        "   if(i%100==0): \n",
        "     print('loss at epoch',i,'=',loss().numpy())\n",
        "\n",
        " #predict OR data through studied perceptron\n",
        "o=forward()\n",
        "print(o)     "
      ],
      "metadata": {
        "colab": {
          "base_uri": "https://localhost:8080/"
        },
        "id": "-cH7VPwbOaZj",
        "outputId": "f81d9425-b4c6-4f33-a65e-1a556a43f592"
      },
      "execution_count": 17,
      "outputs": [
        {
          "output_type": "stream",
          "name": "stdout",
          "text": [
            "loss at epoch 0 = 0.5216487\n",
            "loss at epoch 100 = 0.084338695\n",
            "loss at epoch 200 = 0.04043556\n",
            "loss at epoch 300 = 0.025798535\n",
            "loss at epoch 400 = 0.018722482\n",
            "tf.Tensor(\n",
            "[[-0.81788975]\n",
            " [ 0.8872641 ]\n",
            " [ 0.88736457]\n",
            " [ 0.999286  ]], shape=(4, 1), dtype=float32)\n"
          ]
        }
      ]
    }
  ]
}