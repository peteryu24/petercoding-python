{
  "nbformat": 4,
  "nbformat_minor": 0,
  "metadata": {
    "colab": {
      "name": "week5.ipynb",
      "provenance": [],
      "collapsed_sections": [],
      "authorship_tag": "ABX9TyN65fzmzK6yuhF6sso51ED5",
      "include_colab_link": true
    },
    "kernelspec": {
      "name": "python3",
      "display_name": "Python 3"
    },
    "language_info": {
      "name": "python"
    }
  },
  "cells": [
    {
      "cell_type": "markdown",
      "metadata": {
        "id": "view-in-github",
        "colab_type": "text"
      },
      "source": [
        "<a href=\"https://colab.research.google.com/github/peteryu24/petercoding-python/blob/main/train_test_split.ipynb\" target=\"_parent\"><img src=\"https://colab.research.google.com/assets/colab-badge.svg\" alt=\"Open In Colab\"/></a>"
      ]
    },
    {
      "cell_type": "code",
      "execution_count": 25,
      "metadata": {
        "colab": {
          "base_uri": "https://localhost:8080/"
        },
        "id": "D9Zu_YQtUPkL",
        "outputId": "4c6c8ac0-5d6f-48fc-a449-a408ef8b8eee"
      },
      "outputs": [
        {
          "output_type": "stream",
          "name": "stdout",
          "text": [
            "[[61.  0.  0.  0.  0.  0.  0.  0.  0.  0.]\n",
            " [ 0. 73.  0.  0.  0.  0.  0.  0.  0.  0.]\n",
            " [ 0.  0. 78.  0.  0.  0.  0.  0.  0.  0.]\n",
            " [ 0.  0.  0. 83.  0.  0.  0.  0.  0.  0.]\n",
            " [ 1.  0.  0.  0. 65.  0.  0.  0.  0.  0.]\n",
            " [ 0.  0.  0.  0.  0. 70.  0.  0.  0.  0.]\n",
            " [ 0.  0.  0.  0.  0.  1. 71.  0.  0.  0.]\n",
            " [ 0.  0.  0.  0.  0.  0.  0. 63.  0.  0.]\n",
            " [ 0.  0.  0.  0.  1.  0.  1.  0. 70.  1.]\n",
            " [ 0.  0.  0.  0.  1.  2.  0.  0.  0. 77.]]\n",
            "accuracy of the test is 98.88734353268428 %.\n"
          ]
        }
      ],
      "source": [
        "from sklearn import datasets\n",
        "from sklearn import svm\n",
        "from sklearn.model_selection import train_test_split\n",
        "import numpy as np\n",
        "\n",
        "digit=datasets.load_digits()\n",
        "x_train,x_test,y_train,y_test=train_test_split(digit.data,digit.target,train_size=0.6)\n",
        "\n",
        "s=svm.SVC(gamma=0.001)\n",
        "s.fit(x_train,y_train)\n",
        "\n",
        "res=s.predict(x_test)\n",
        "\n",
        "conf=np.zeros((10,10))\n",
        "for i in range(len(res)):\n",
        "  conf[res[i]][y_test[i]]+=1\n",
        "print(conf)\n",
        "\n",
        "no_correct=0\n",
        "for i in range(10):\n",
        "  no_correct+=conf[i][i]\n",
        "accuracy=no_correct/len(res) \n",
        "print(\"accuracy of the test is\", accuracy*100, \"%.\")"
      ]
    }
  ]
}